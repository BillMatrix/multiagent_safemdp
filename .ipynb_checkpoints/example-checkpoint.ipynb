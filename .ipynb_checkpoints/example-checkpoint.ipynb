{
 "cells": [
  {
   "cell_type": "code",
   "execution_count": 1,
   "metadata": {},
   "outputs": [],
   "source": [
    "%load_ext autoreload\n",
    "%autoreload 2"
   ]
  },
  {
   "cell_type": "code",
   "execution_count": 2,
   "metadata": {},
   "outputs": [],
   "source": [
    "from __future__ import division, print_function, absolute_import\n",
    "\n",
    "import time\n",
    "\n",
    "import GPy\n",
    "import matplotlib.pyplot as plt\n",
    "import numpy as np\n",
    "\n",
    "from grid_world import (compute_true_safe_set, compute_S_hat0,\n",
    "                                compute_true_S_hat, draw_gp_sample, GridWorld)"
   ]
  },
  {
   "cell_type": "code",
   "execution_count": null,
   "metadata": {},
   "outputs": [],
   "source": [
    "# Define world\n",
    "world_shape = (2, 2)\n",
    "step_size = (0.5, 0.5)"
   ]
  },
  {
   "cell_type": "code",
   "execution_count": null,
   "metadata": {},
   "outputs": [],
   "source": [
    "# Define GP\n",
    "noise = 0.001\n",
    "kernel = GPy.kern.RBF(input_dim=2, lengthscale=(2., 2.), variance=1.,\n",
    "                      ARD=True)\n",
    "lik = GPy.likelihoods.Gaussian(variance=noise ** 2)\n",
    "lik.constrain_bounded(1e-6, 10000.)"
   ]
  },
  {
   "cell_type": "code",
   "execution_count": null,
   "metadata": {},
   "outputs": [],
   "source": [
    "# Sample and plot world\n",
    "altitudes, coord = draw_gp_sample(kernel, world_shape, step_size)\n",
    "fig = plt.figure()\n",
    "ax = fig.add_subplot(111, projection='3d')\n",
    "ax.plot_trisurf(coord[:, 0], coord[:, 1], altitudes)\n",
    "plt.show()"
   ]
  },
  {
   "cell_type": "code",
   "execution_count": null,
   "metadata": {},
   "outputs": [],
   "source": [
    "# Define coordinates\n",
    "n, m = world_shape\n",
    "step1, step2 = step_size\n",
    "xx, yy = np.meshgrid(np.linspace(0, (n - 1) * step1, n),\n",
    "                     np.linspace(0, (m - 1) * step2, m),\n",
    "                     indexing=\"ij\")\n",
    "coord = np.vstack((xx.flatten(), yy.flatten())).T"
   ]
  },
  {
   "cell_type": "code",
   "execution_count": null,
   "metadata": {},
   "outputs": [],
   "source": [
    "# Safety threhsold\n",
    "h = -0.25\n",
    "\n",
    "# Lipschitz\n",
    "L = 0\n",
    "\n",
    "# Scaling factor for confidence interval\n",
    "beta = 2"
   ]
  },
  {
   "cell_type": "code",
   "execution_count": null,
   "metadata": {},
   "outputs": [],
   "source": [
    "# Data to initialize GP\n",
    "n_samples = 1\n",
    "ind = np.random.choice(range(altitudes.size), n_samples)\n",
    "X = coord[ind, :]\n",
    "Y = altitudes[ind].reshape(n_samples, 1) + np.random.randn(n_samples,\n",
    "                                                           1)\n",
    "print(X)\n",
    "print(Y)\n",
    "gp = GPy.core.GP(X, Y, kernel, lik)"
   ]
  },
  {
   "cell_type": "code",
   "execution_count": null,
   "metadata": {},
   "outputs": [],
   "source": [
    "# Initialize safe sets\n",
    "S0 = np.zeros((np.prod(world_shape), 5), dtype=bool)\n",
    "S0[:, 0] = True\n",
    "S_hat0 = compute_S_hat0(np.nan, world_shape, 4, altitudes,\n",
    "                        step_size, h)"
   ]
  },
  {
   "cell_type": "code",
   "execution_count": null,
   "metadata": {},
   "outputs": [],
   "source": [
    "# Define SafeMDP object\n",
    "x = GridWorld(gp, world_shape, step_size, beta, altitudes, h, S0, S_hat0, L)"
   ]
  },
  {
   "cell_type": "code",
   "execution_count": null,
   "metadata": {},
   "outputs": [],
   "source": [
    "from utilities import DifferenceKernel"
   ]
  },
  {
   "cell_type": "code",
   "execution_count": null,
   "metadata": {},
   "outputs": [],
   "source": [
    "# Insert samples from (s, a) in S_hat0\n",
    "tmp = np.arange(x.coord.shape[0])\n",
    "s_vec_ind = np.random.choice(tmp[np.any(x.S_hat[:, 1:], axis=1)])\n",
    "tmp = np.arange(1, x.S.shape[1])\n",
    "actions = tmp[x.S_hat[s_vec_ind, 1:].squeeze()]\n",
    "for i in range(3):\n",
    "    x.add_observation(s_vec_ind, np.random.choice(actions))"
   ]
  },
  {
   "cell_type": "code",
   "execution_count": null,
   "metadata": {},
   "outputs": [],
   "source": [
    "print(x.l)"
   ]
  },
  {
   "cell_type": "code",
   "execution_count": null,
   "metadata": {},
   "outputs": [],
   "source": [
    "# Remove samples used for GP initialization\n",
    "x.gp.set_XY(x.gp.X[n_samples:, :], x.gp.Y[n_samples:])\n",
    "\n",
    "t = time.time()\n",
    "for i in range(1):\n",
    "    x.update_sets()\n",
    "    next_sample = x.target_sample()\n",
    "    x.add_observation(*next_sample)\n",
    "    # x.compute_graph_lazy()\n",
    "    # plt.figure(1)\n",
    "    # plt.clf()\n",
    "    # nx.draw_networkx(x.graph)\n",
    "    # plt.show()\n",
    "    print(\"Iteration:   \" + str(i))"
   ]
  },
  {
   "cell_type": "code",
   "execution_count": null,
   "metadata": {},
   "outputs": [],
   "source": [
    "print(x.l)"
   ]
  },
  {
   "cell_type": "code",
   "execution_count": null,
   "metadata": {},
   "outputs": [],
   "source": [
    "true_S = compute_true_safe_set(x.world_shape, x.altitudes, x.h)\n",
    "true_S_hat = compute_true_S_hat(x.graph, true_S, x.initial_nodes)\n",
    "\n",
    "# Plot safe sets\n",
    "x.plot_S(x.S_hat)\n",
    "x.plot_S(true_S_hat)\n",
    "\n",
    "# Classification performance\n",
    "print(np.sum(np.logical_and(true_S_hat, np.logical_not(\n",
    "    x.S_hat))))  # in true S_hat and not S_hat\n",
    "print(np.sum(np.logical_and(x.S_hat, np.logical_not(true_S_hat))))\n"
   ]
  },
  {
   "cell_type": "code",
   "execution_count": null,
   "metadata": {},
   "outputs": [],
   "source": []
  },
  {
   "cell_type": "code",
   "execution_count": null,
   "metadata": {},
   "outputs": [],
   "source": [
    "new_grid_world = GridWorld(gp, (3, 3), step_size, beta, altitudes, h, S0, S_hat0, L)"
   ]
  },
  {
   "cell_type": "code",
   "execution_count": null,
   "metadata": {},
   "outputs": [],
   "source": []
  }
 ],
 "metadata": {
  "kernelspec": {
   "display_name": "Python 3",
   "language": "python",
   "name": "python3"
  },
  "language_info": {
   "codemirror_mode": {
    "name": "ipython",
    "version": 3
   },
   "file_extension": ".py",
   "mimetype": "text/x-python",
   "name": "python",
   "nbconvert_exporter": "python",
   "pygments_lexer": "ipython3",
   "version": "3.6.5"
  }
 },
 "nbformat": 4,
 "nbformat_minor": 2
}
